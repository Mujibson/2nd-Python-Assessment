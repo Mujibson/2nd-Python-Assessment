{
 "cells": [
  {
   "cell_type": "markdown",
   "id": "0e6268e1",
   "metadata": {},
   "source": [
    "#### Exercise 1: Given two lists, L1 and L2, write a program to create a third list L3 by picking an odd-index element from the list L1 and even index elements from the list L2.\n",
    "Given: \n",
    "L1 = [3, 6, 9, 12, 15, 18, 21]\n",
    "L2 = [4, 8, 12, 16, 20, 24, 28]\n",
    "Expected Output:\n",
    "Element at odd-index positions from list one\n",
    "[6, 12, 18]\n",
    "Element at even-index positions from list two\n",
    "[4, 12, 20, 28]\n",
    "Printing Final third list\n",
    "[6, 12, 18, 4, 12, 20, 28]"
   ]
  },
  {
   "cell_type": "code",
   "execution_count": 1,
   "id": "629f5bdc",
   "metadata": {},
   "outputs": [
    {
     "name": "stdout",
     "output_type": "stream",
     "text": [
      "Element at odd-index positions from list one [6, 12, 18]\n",
      "Element at even-index positions from list two [4, 12, 20, 28]\n",
      "Printing Final third list [6, 12, 18, 4, 12, 20, 28]\n"
     ]
    }
   ],
   "source": [
    "L1 = [3, 6, 9, 12, 15, 18, 21]\n",
    "L2 = [4, 8, 12, 16, 20, 24, 28]\n",
    "El1 = L1[1::2]\n",
    "print('Element at odd-index positions from list one', El1)\n",
    "El2 = L2[0::2]\n",
    "print('Element at even-index positions from list two', El2)\n",
    "print('Printing Final third list', El1 + El2)\n"
   ]
  },
  {
   "cell_type": "markdown",
   "id": "3b5617f5",
   "metadata": {},
   "source": [
    "#### Exercise 2: Slice a list into 3 equal chunks and reverse each chunk\n",
    "Given:\n",
    "sample_list = [11, 45, 8, 23, 14, 12, 78, 45, 89]\n",
    "Expected Outcome:\n",
    "Chunk 1 [11, 45, 8]\n",
    "After reversing it [8, 45, 11]\n",
    "Chunk 2 [23, 14, 12]\n",
    "After reversing it [12, 14, 23]\n",
    "Chunk 3 [78, 45, 89]\n",
    "After reversing it [89, 45, 78]"
   ]
  },
  {
   "cell_type": "code",
   "execution_count": 2,
   "id": "1b3cbc06",
   "metadata": {},
   "outputs": [
    {
     "name": "stdout",
     "output_type": "stream",
     "text": [
      "Chunk 1 [11, 45, 8]\n",
      "After reversing it [8, 45, 11]\n",
      "Chunk 2 [23, 14, 12]\n",
      "After reversing it [12, 14, 23]\n",
      "Chunk 3 [78, 45, 89]\n",
      "After reversing it [89, 45, 78]\n"
     ]
    }
   ],
   "source": [
    "sample_list = [11, 45, 8, 23, 14, 12, 78, 45, 89] \n",
    "chunk1 = sample_list[0:3]\n",
    "print('Chunk 1', chunk1)\n",
    "print('After reversing it', chunk1[::-1])\n",
    "chunk2 = sample_list[3:6]\n",
    "print('Chunk 2', chunk2)\n",
    "print('After reversing it', chunk2[::-1])\n",
    "chunk3 = sample_list[6:9]\n",
    "print('Chunk 3', chunk3)\n",
    "print('After reversing it', chunk3[::-1])"
   ]
  },
  {
   "cell_type": "markdown",
   "id": "536a4521",
   "metadata": {},
   "source": [
    "#### Exercise 3: Count the occurrence of each element in a list.Write a program to iterate a given list and count the occurrence of each element and create a dictionary to show the count of each element.\n",
    "Given:\n",
    "Sample-list = [11, 45, 8, 11, 23, 45, 23, 45, 89]\n",
    "Expected Output:\n",
    "Printing count of each item {11: 2, 45: 3, 8: 1, 23: 2, 89: 1}\n"
   ]
  },
  {
   "cell_type": "code",
   "execution_count": 3,
   "id": "6976ad7e",
   "metadata": {},
   "outputs": [
    {
     "name": "stdout",
     "output_type": "stream",
     "text": [
      "Printing count of each item {11: 1, 45: 2, 8: 1, 23: 1, 14: 1, 12: 1, 78: 1, 89: 1}\n"
     ]
    }
   ],
   "source": [
    "Sample_list = [11, 45, 8, 11, 23, 45, 23, 45, 89] \n",
    "dict = {}\n",
    "for a in sample_list:\n",
    "    count = sample_list.count(a)\n",
    "    dict.setdefault(a, count)\n",
    "print('Printing count of each item', dict)"
   ]
  },
  {
   "cell_type": "markdown",
   "id": "dd3dac49",
   "metadata": {},
   "source": [
    "#### Exercise 4: Create a Python set such that it shows the element from both lists in a pair\n",
    "Given:\n",
    "first_list = [2, 3, 4, 5, 6, 7, 8]\n",
    "second_list = [4, 9, 16, 25, 36, 49, 64]\n",
    "Expected Output:\n",
    "Result is {(6, 36), (8, 64), (4, 16), (5, 25), (3, 9), (7, 49), (2, 4)}"
   ]
  },
  {
   "cell_type": "code",
   "execution_count": 4,
   "id": "08641c83",
   "metadata": {},
   "outputs": [
    {
     "name": "stdout",
     "output_type": "stream",
     "text": [
      "Result is {(7, 49), (2, 4), (4, 16), (8, 64), (6, 36), (3, 9), (5, 25)}\n"
     ]
    }
   ],
   "source": [
    "first_list = [2, 3, 4, 5, 6, 7, 8]\n",
    "second_list = [4, 9, 16, 25, 36, 49, 64]\n",
    "third_list = set(zip(first_list, second_list))\n",
    "print('Result is', third_list)\n",
    "\n"
   ]
  },
  {
   "cell_type": "markdown",
   "id": "19f742c5",
   "metadata": {},
   "source": [
    "#### Exercise 5: Find the intersection (common) of two sets and remove those elements from the first set\n",
    "Given:\n",
    "first_set = {23, 42, 65, 57, 78, 83, 29}\n",
    "second_set = {57, 83, 29, 67, 73, 43, 48}\n",
    "Expected Output:\n",
    "Intersection is {57, 83, 29}\n",
    "First Set after removing common element {65, 42, 78, 23}\n"
   ]
  },
  {
   "cell_type": "code",
   "execution_count": 5,
   "id": "4e866554",
   "metadata": {},
   "outputs": [
    {
     "name": "stdout",
     "output_type": "stream",
     "text": [
      "Intersection is {57, 83, 29}\n",
      "First Set after removing common element {65, 42, 78, 23}\n"
     ]
    }
   ],
   "source": [
    "first_set = {23, 42, 65, 57, 78, 83, 29}\n",
    "second_set = {57, 83, 29, 67, 73, 43, 48}\n",
    "third_set = first_set.intersection(second_set)\n",
    "print('Intersection is', third_set)\n",
    "print('First Set after removing common element', first_set - third_set)\n"
   ]
  },
  {
   "cell_type": "markdown",
   "id": "bcad979b",
   "metadata": {},
   "source": [
    "#### Exercise 6: Iterate a given list and check if a given element exists as a key’s value in a dictionary. If not, delete it from the list\n",
    "Given:\n",
    "roll_number = [47, 64, 69, 37, 76, 83, 95, 97]\n",
    "sample_dict = {'John':47, 'Emma':69, 'Kelly':76, 'Jason':97}\n",
    "Expected Outcome:\n",
    "After removing unwanted elements from list [47, 69, 76, 97]"
   ]
  },
  {
   "cell_type": "code",
   "execution_count": 6,
   "id": "68fe9df7",
   "metadata": {},
   "outputs": [
    {
     "name": "stdout",
     "output_type": "stream",
     "text": [
      "After removing unwanted elements from list [47, 69, 76, 97]\n"
     ]
    }
   ],
   "source": [
    "roll_number = [47, 64, 69, 37, 76, 83, 95, 97]\n",
    "sample_dict = {'John':47, 'Emma':69, 'Kelly':76, 'Jason':97} \n",
    "lst = []\n",
    "for a in roll_number:\n",
    "    if a in sample_dict.values():\n",
    "       lst.append(a)\n",
    "print('After removing unwanted elements from list', lst)"
   ]
  },
  {
   "cell_type": "markdown",
   "id": "3ec6d56b",
   "metadata": {},
   "source": [
    "#### Exercise 7: Get all values from the dictionary and add them to a list but don’t add duplicates\n",
    "Given:\n",
    "speed = {'jan': 47, 'feb': 52, 'march': 47, 'April': 44, 'May': 52, 'June': 53, 'july': 54, 'Aug': 44,\n",
    "'Sept': 54}\n",
    "Expected Outcome:\n",
    "[47, 52, 44, 53, 54]"
   ]
  },
  {
   "cell_type": "code",
   "execution_count": 7,
   "id": "10fc0cf0",
   "metadata": {},
   "outputs": [
    {
     "name": "stdout",
     "output_type": "stream",
     "text": [
      "[47, 52, 44, 53, 54]\n"
     ]
    }
   ],
   "source": [
    "speed = {'jan': 47, 'feb': 52, 'march': 47, 'April': 44, 'May': 52, 'June': 53, 'july': 54, 'Aug': 44, 'Sept': 54}\n",
    "lst = []\n",
    "for a in speed.values():\n",
    "    if a not in lst:\n",
    "     lst.append(a)\n",
    "print(lst)"
   ]
  },
  {
   "cell_type": "markdown",
   "id": "5975038d",
   "metadata": {},
   "source": [
    "#### Exercise 8: Remove duplicates from a list and create a tuple and find the minimum and maximum number\n",
    "Given:\n",
    "Sample-list = [87, 45, 41, 65, 94, 41, 99, 94]\n",
    "Expected Outcome:\n",
    "Unique items [87, 45, 41, 65, 99]\n",
    "Tuple (87, 45, 41, 65, 99)\n",
    "min: 41\n",
    "max: 99"
   ]
  },
  {
   "cell_type": "code",
   "execution_count": 8,
   "id": "78a3d76c",
   "metadata": {},
   "outputs": [
    {
     "name": "stdout",
     "output_type": "stream",
     "text": [
      "Unique items (87, 45, 41, 65, 94, 99)\n",
      "min: 41\n",
      "max: 99\n"
     ]
    }
   ],
   "source": [
    "sample_list = [87, 45, 41, 65, 94, 41, 99, 94]\n",
    "lst = []\n",
    "for a in sample_list:\n",
    "    if a not in lst:\n",
    "        lst.append(a)\n",
    "print('Unique items', tuple(lst))\n",
    "print('min:', min(tuple(lst)))\n",
    "print('max:', max(tuple(lst)))\n"
   ]
  },
  {
   "cell_type": "markdown",
   "id": "52f9a0c3",
   "metadata": {},
   "source": [
    "#### Exercise 9: Create a recursive function. Write a program to create a recursive function to calculate the sum of numbers from 0 to 10. A recursive function is a function that calls itself again and again.\n",
    "Expected Output:\n",
    "55"
   ]
  },
  {
   "cell_type": "code",
   "execution_count": 9,
   "id": "4da1effb",
   "metadata": {},
   "outputs": [
    {
     "name": "stdout",
     "output_type": "stream",
     "text": [
      "210\n"
     ]
    }
   ],
   "source": [
    "def recursive(a,b):\n",
    "    total = 0\n",
    "    for a in range(a,b):\n",
    "        total +=a\n",
    "    print(total)\n",
    "recursive(0,21)\n",
    "       \n",
    "    \n",
    "    \n",
    "\n"
   ]
  },
  {
   "cell_type": "code",
   "execution_count": null,
   "id": "8f8ff152",
   "metadata": {},
   "outputs": [],
   "source": []
  }
 ],
 "metadata": {
  "kernelspec": {
   "display_name": "Python 3 (ipykernel)",
   "language": "python",
   "name": "python3"
  },
  "language_info": {
   "codemirror_mode": {
    "name": "ipython",
    "version": 3
   },
   "file_extension": ".py",
   "mimetype": "text/x-python",
   "name": "python",
   "nbconvert_exporter": "python",
   "pygments_lexer": "ipython3",
   "version": "3.9.12"
  }
 },
 "nbformat": 4,
 "nbformat_minor": 5
}
