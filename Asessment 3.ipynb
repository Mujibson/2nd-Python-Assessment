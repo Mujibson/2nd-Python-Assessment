{
 "cells": [
  {
   "cell_type": "markdown",
   "id": "41b2e0eb",
   "metadata": {},
   "source": [
    "## Assessment 3"
   ]
  },
  {
   "cell_type": "markdown",
   "id": "bf5b5f1d",
   "metadata": {},
   "source": [
    "#### Exercise 1: Create a function that accepts any number of numbers as positional arguments and prints the sum of those numbers."
   ]
  },
  {
   "cell_type": "code",
   "execution_count": 1,
   "id": "9580a86c",
   "metadata": {},
   "outputs": [
    {
     "name": "stdout",
     "output_type": "stream",
     "text": [
      "35\n"
     ]
    }
   ],
   "source": [
    "add = 0\n",
    "def summation(*numbers):\n",
    "    for i in numbers:\n",
    "        global add # I just decided to test my knowledge of global variable here\n",
    "        add += i\n",
    "    return(add)\n",
    "print(summation(6,8,1,2,3,4,5,6))"
   ]
  },
  {
   "cell_type": "markdown",
   "id": "bdc9431c",
   "metadata": {},
   "source": [
    "#### Exercise 2:  Print the following dictionary using the format method and ** unpacking.\n",
    "country = {\n",
    "\"name\": \"Germany\",\n",
    "\"population\": \"83 million\",\n",
    "\"capital\": \"Berlin\",\n",
    "\"currency\": \"Euro\"\n",
    "}\n",
    "The output in my case looks like this:\n",
    "Name: Germany\n",
    "Population: 83 million\n",
    "Capital: Berlin\n",
    "Currency: Euro"
   ]
  },
  {
   "cell_type": "code",
   "execution_count": 2,
   "id": "85ae9b6b",
   "metadata": {},
   "outputs": [
    {
     "name": "stdout",
     "output_type": "stream",
     "text": [
      "Name: Germany\n",
      "Population: 83 million\n",
      "Capital: Berlin\n",
      "Currency: Euro\n"
     ]
    }
   ],
   "source": [
    "country = {\n",
    "    'name' : 'Germany',\n",
    "    'population' : '83 million',\n",
    "    'capital' : 'Berlin',\n",
    "    'currency' : 'Euro'\n",
    "}\n",
    "print('Name: {name}'.format(**country))\n",
    "print('Population: {population}'.format(**country))\n",
    "print('Capital: {capital}'.format(**country))\n",
    "print('Currency: {currency}'.format(**country))"
   ]
  },
  {
   "cell_type": "markdown",
   "id": "98afb2f3",
   "metadata": {},
   "source": [
    "#### Exercise 3:  Using * unpacking and range, print the numbers 1 to 20, separated by commas.\n",
    "If we run the code, we get should output like this:\n",
    "1, 2, 3, 4, 5, 6, 7, 8, 9, 10, 11, 12, 13, 14, 15, 16, 17, 18, 19, 20"
   ]
  },
  {
   "cell_type": "code",
   "execution_count": 3,
   "id": "06e50682",
   "metadata": {},
   "outputs": [
    {
     "name": "stdout",
     "output_type": "stream",
     "text": [
      "1,2,3,4,5,6,7,8,9,10,11,12,13,14,15,16,17,18,19,20\n"
     ]
    }
   ],
   "source": [
    "num = range(1,21)\n",
    "print(*num,sep=\",\")"
   ]
  },
  {
   "cell_type": "markdown",
   "id": "5778dec2",
   "metadata": {},
   "source": [
    "#### Exercise 4:  Modify your code from exercise 3 so that each number prints on a different line. You can only use a single print call."
   ]
  },
  {
   "cell_type": "code",
   "execution_count": 4,
   "id": "fefbd8b6",
   "metadata": {},
   "outputs": [
    {
     "name": "stdout",
     "output_type": "stream",
     "text": [
      "1\n",
      "2\n",
      "3\n",
      "4\n",
      "5\n",
      "6\n",
      "7\n",
      "8\n",
      "9\n",
      "10\n",
      "11\n",
      "12\n",
      "13\n",
      "14\n",
      "15\n",
      "16\n",
      "17\n",
      "18\n",
      "19\n",
      "20\n"
     ]
    }
   ],
   "source": [
    "num = range(1,21)\n",
    "print(*num,sep=\"\\n\")"
   ]
  },
  {
   "cell_type": "code",
   "execution_count": null,
   "id": "dd815745",
   "metadata": {},
   "outputs": [],
   "source": []
  }
 ],
 "metadata": {
  "kernelspec": {
   "display_name": "Python 3 (ipykernel)",
   "language": "python",
   "name": "python3"
  },
  "language_info": {
   "codemirror_mode": {
    "name": "ipython",
    "version": 3
   },
   "file_extension": ".py",
   "mimetype": "text/x-python",
   "name": "python",
   "nbconvert_exporter": "python",
   "pygments_lexer": "ipython3",
   "version": "3.9.12"
  }
 },
 "nbformat": 4,
 "nbformat_minor": 5
}
